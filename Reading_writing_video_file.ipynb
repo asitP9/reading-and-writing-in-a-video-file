{
 "cells": [
  {
   "cell_type": "code",
   "execution_count": 2,
   "id": "d3f129d4",
   "metadata": {},
   "outputs": [],
   "source": [
    "import cv2"
   ]
  },
  {
   "cell_type": "code",
   "execution_count": 3,
   "id": "1b826434",
   "metadata": {},
   "outputs": [],
   "source": [
    "videoCapture=cv2.VideoCapture(\"ocean.avi\")"
   ]
  },
  {
   "cell_type": "code",
   "execution_count": 5,
   "id": "03a73ba3",
   "metadata": {},
   "outputs": [],
   "source": [
    "fps = videoCapture.get(cv2.CAP_PROP_FPS)\n",
    "size = (int(videoCapture.get(cv2.CAP_PROP_FRAME_WIDTH)), int(videoCapture.get(cv2.CAP_PROP_FRAME_HEIGHT)))"
   ]
  },
  {
   "cell_type": "markdown",
   "id": "cc85806f",
   "metadata": {},
   "source": [
    "### the VideoWriter class constructor's parameters need special mention\n",
    "### A video codec must also be specified. The available codecs may vary from system to system. The supported options may \n",
    "### include the following:\n",
    "#### 0: This option is an uncompressed raw video file. The file extension should be .avi.\n",
    "#### cv2.VideoWriter_fourcc('I','4','2','0'): This option is an uncompressed YUV encoding, 4:2:0 chroma subsampled. This encoding is widely compatible but produces large files. The file extension should be .avi.\n",
    "#### cv2.VideoWriter_fourcc('P','I','M','1'): This option is MPEG-1. The file extension should be .avi.\n",
    "#### cv2.VideoWriter_fourcc('X','V','I','D'): This option is a relatively old MPEG-4 encoding. It is a good option if you want to limit the size of the resulting video. The file extension should be .avi\n",
    "#### cv2.VideoWriter_fourcc('M','P','4','V'): This option is another relatively old MPEG-4 encoding. It is a good option if you want to limit the size of the resulting video. The file extension should be .mp4.\n",
    "#### cv2.VideoWriter_fourcc('X','2','6','4'): This option is a relatively new MPEG-4 encoding. It may be the best option if you want to limit the size of the resulting video. The file extension should be .mp4\n",
    "#### cv2.VideoWriter_fourcc('T','H','E','O'): This option is Ogg Vorbis. The file extension should be .ogv.\n",
    "#### cv2.VideoWriter_fourcc('F','L','V','1'): This option is a Flash video. The file extension should be .flv."
   ]
  },
  {
   "cell_type": "code",
   "execution_count": 10,
   "id": "fff43123",
   "metadata": {},
   "outputs": [],
   "source": [
    "videoWriter = cv2.VideoWriter('MyOutputVid.avi', cv2.VideoWriter_fourcc('I','4','2','0'), fps, size)"
   ]
  },
  {
   "cell_type": "code",
   "execution_count": 9,
   "id": "f784b0d6",
   "metadata": {},
   "outputs": [],
   "source": [
    "success, frame = videoCapture.read()\n",
    "while success:\n",
    "    videoWriter.write(frame)\n",
    "    success, frame=videoCapture.read()"
   ]
  },
  {
   "cell_type": "markdown",
   "id": "190516ca",
   "metadata": {},
   "source": [
    "## However, for a camera, we construct a VideoCapture object by passing the camera's device index instead of a video's filename. Let's consider the following example, which captures 10 seconds of video from a camera and writes it to an AVI file. "
   ]
  },
  {
   "cell_type": "code",
   "execution_count": 11,
   "id": "cec89fdf",
   "metadata": {},
   "outputs": [],
   "source": [
    "import cv2\n",
    "\n",
    "cameraCapture = cv2.VideoCapture(0)\n",
    "fps = 30 # An assumption\n",
    "size = (int(cameraCapture.get(cv2.CAP_PROP_FRAME_WIDTH)), int(cameraCapture.get(cv2.CAP_PROP_FRAME_HEIGHT)))\n",
    "videoWriter = cv2.VideoWriter('MyOutputVid.avi', cv2.VideoWriter_fourcc('I','4','2','0'), fps, size)\n",
    "\n",
    "success, frame = cameraCapture.read()\n",
    "numFramesRemaining = 10 * fps - 1 # 10 seconds of frames\n",
    "while success and numFramesRemaining > 0:\n",
    "    videoWriter.write(frame)\n",
    "    success, frame = cameraCapture.read()\n",
    "    numFramesRemaining -= 1"
   ]
  },
  {
   "cell_type": "code",
   "execution_count": null,
   "id": "15ff0e19",
   "metadata": {},
   "outputs": [],
   "source": []
  }
 ],
 "metadata": {
  "kernelspec": {
   "display_name": "Python 3",
   "language": "python",
   "name": "python3"
  },
  "language_info": {
   "codemirror_mode": {
    "name": "ipython",
    "version": 3
   },
   "file_extension": ".py",
   "mimetype": "text/x-python",
   "name": "python",
   "nbconvert_exporter": "python",
   "pygments_lexer": "ipython3",
   "version": "3.8.10"
  }
 },
 "nbformat": 4,
 "nbformat_minor": 5
}
